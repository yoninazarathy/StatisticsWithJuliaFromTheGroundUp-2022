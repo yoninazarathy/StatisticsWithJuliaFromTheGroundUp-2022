{
 "cells": [
  {
   "cell_type": "markdown",
   "metadata": {},
   "source": [
    "# Statistics with Julia from the ground up\n",
    "#### A [JuliaCon 2021](https://juliacon.org/2021/) workshop by [Yoni Nazarathy](https://yoninazarathy.com/)\n",
    "\n",
    "Many of the code examples for this workshop are adapted from [Statistics with Julia:\n",
    "Fundamentals for Data Science, Machine Learning and Artificial Intelligence by Yoni Nazarathy and Hayden Klok](https://statisticswithjulia.org/).  "
   ]
  },
  {
   "cell_type": "markdown",
   "metadata": {},
   "source": [
    "Also related (and recommended in this JuliaCon): \n",
    "* [Dataframes tutorial](https://github.com/bkamins/JuliaCon2021-DataFrames-Tutorial) or [here](https://pretalx.com/juliacon2021/talk/FXZXMB/) by Bogumił Kamiński.\n",
    "* [Introduction to Bayesian Data Analysis](https://pretalx.com/juliacon2021/talk/J7BFBM/) by Kusti Skytén.\n",
    "* Dozens of other very exciting talks..."
   ]
  },
  {
   "cell_type": "markdown",
   "metadata": {},
   "source": [
    "<a id='home'></a>\n",
    "# Table of Contents\n",
    "\n",
    "1. [Why Julia?](#why-julia)\n",
    "1. [What do you `mean`?](#what-do-you-mean)\n",
    "1. [Something `rand`.](#something-rand)\n",
    "1. [Do you still miss R? So Just `RCall`.](#just-rcall)\n",
    "1. [Some `Plots`.](#some-plots)\n",
    "1. [Your favorite `Distribution`.](#favorite-distribution)\n",
    "1. [We love `DataFrames`.](#love-dataframes)\n",
    "1. [Gotta have some basic inference.](#inference)\n",
    "1. [Linear models at our core.](#linear-models)\n",
    "1. [Basic Machine learning.](#basic-ml)\n"
   ]
  },
  {
   "cell_type": "markdown",
   "metadata": {},
   "source": [
    "---\n",
    "## Before we start"
   ]
  },
  {
   "cell_type": "markdown",
   "metadata": {},
   "source": [
    "The tutorial was developed and tested under Julia 1.6.0. It is best to run it with the `Project.toml` and `Manifest.toml` files present in the working directory of the notebook. It also uses the following data files: "
   ]
  },
  {
   "cell_type": "code",
   "execution_count": null,
   "metadata": {
    "scrolled": false
   },
   "outputs": [],
   "source": [
    "readdir(\"./data\")"
   ]
  },
  {
   "cell_type": "markdown",
   "metadata": {},
   "source": [
    "You will find all these files and this notebook in the [Github repo for this workshop](https://github.com/yoninazarathy/JuliaCon2021-StatisticsWithJuliaFromTheGroundUp). You can either \"clone\" the repo or download a zip file."
   ]
  },
  {
   "cell_type": "markdown",
   "metadata": {},
   "source": [
    "We use a [Jupyter Notebook](https://jupyter.org/). Here is a [quick reference sheet](edureka.co/blog/wp-content/uploads/2018/10/Jupyter_Notebook_CheatSheet_Edureka.pdf). Many other reserouces on the web as well for Jupyter - many of which use Python and not Julia, but Jupyter is the same. BTW the \"J\" in \"Jupyter\" is for \"Julia\"."
   ]
  },
  {
   "cell_type": "markdown",
   "metadata": {},
   "source": [
    "Load the packages we will use:"
   ]
  },
  {
   "cell_type": "code",
   "execution_count": null,
   "metadata": {
    "scrolled": false
   },
   "outputs": [],
   "source": [
    "using Pkg\n",
    "Pkg.activate(\".\")\n",
    "Pkg.instantiate()"
   ]
  },
  {
   "cell_type": "code",
   "execution_count": null,
   "metadata": {
    "scrolled": false
   },
   "outputs": [],
   "source": [
    "Pkg.status()"
   ]
  },
  {
   "cell_type": "code",
   "execution_count": null,
   "metadata": {
    "scrolled": false
   },
   "outputs": [],
   "source": [
    "using Random, Statistics, LinearAlgebra, Dates #Shipped with Julia\n",
    "using Distributions, StatsBase #Core statistics\n",
    "using CSV, DataFrames #Basic Data\n",
    "using Plots, StatsPlots, LaTeXStrings, Measures #Plotting and Output\n",
    "using HypothesisTests, KernelDensity, GLM, Lasso, Clustering, MultivariateStats #Statistical/ML methods\n",
    "using Flux, Metalhead #Deep learning \n",
    "using Combinatorics, SpecialFunctions, Roots #Mathematical misc.\n",
    "using RDatasets, MLDatasets #Example datasets\n",
    "#uncomment if using R:  using RCall #Interface with R"
   ]
  },
  {
   "cell_type": "code",
   "execution_count": null,
   "metadata": {
    "scrolled": false
   },
   "outputs": [],
   "source": [
    "# We run this before many examples for reproducibility\n",
    "fix_seed!() = Random.seed!(0)"
   ]
  },
  {
   "cell_type": "markdown",
   "metadata": {},
   "source": [
    "<a id='why-julia'></a>\n",
    "\n",
    "---\n",
    "\n",
    "# Why Julia?\n",
    "[home](#home)"
   ]
  },
  {
   "cell_type": "markdown",
   "metadata": {},
   "source": [
    "![Julia Curve](img/julia_curve.png)"
   ]
  },
  {
   "cell_type": "markdown",
   "metadata": {},
   "source": [
    "### Some ways to run Julia\n",
    "\n",
    "* REPL\n",
    "    - As an application\n",
    "    - Out of your shell \n",
    "    - As part of an IDE\n",
    "* Jupyter (IJulia)\n",
    "    - In your web browser\n",
    "    - Jupyter Lab\n",
    "* Google collab\n",
    "* Pluto\n",
    "* Visual Studio Code\n",
    "* Legacy: Atom (Juno)\n",
    "* JuliaHub\n",
    "* In RMarkdown with IJulia (e.g. in R studio)\n",
    "* ... "
   ]
  },
  {
   "cell_type": "markdown",
   "metadata": {},
   "source": [
    "### Key resources (My favorites)\n",
    "\n",
    "* Main Julia Page: https://julialang.org/\n",
    "* Docs: https://docs.julialang.org/\n",
    "* Julia Express: https://github.com/bkamins/The-Julia-Express \n",
    "* Think Julia: https://www.oreilly.com/library/view/think-julia/9781492045021/\n",
    "* MIT Course, computational thinking: https://computationalthinking.mit.edu/Spring21/ \n",
    "* A University of Queensland Course: https://courses.smp.uq.edu.au/MATH2504/\n",
    "* Statistics with Julia: https://statisticswithjulia.org/ (use image gallary) \n",
    "* Package documentation: Searching for the package, e.g. `Plots.jl`, typically gets you to GitHub. From there find the docs.\n",
    "* Julia Discourse: https://discourse.julialang.org/\n",
    "* Julia Slack: https://julialang.org/slack/ \n",
    "* Your local Julia \"club\": E.g. in my area: https://www.meetup.com/en-AU/brisbane-julia-language-meetup/ \n",
    "* YouTube...\n"
   ]
  },
  {
   "cell_type": "markdown",
   "metadata": {},
   "source": [
    "<a id='what-do-you-mean'></a>\n",
    "\n",
    "---\n",
    "\n",
    "# What do you `mean`?\n",
    "[home](#home)"
   ]
  },
  {
   "cell_type": "code",
   "execution_count": null,
   "metadata": {
    "scrolled": false
   },
   "outputs": [],
   "source": [
    "fix_seed!()\n",
    "data = rand(Normal(),5)"
   ]
  },
  {
   "cell_type": "code",
   "execution_count": null,
   "metadata": {
    "scrolled": false
   },
   "outputs": [],
   "source": [
    "n = length(data)"
   ]
  },
  {
   "cell_type": "code",
   "execution_count": null,
   "metadata": {
    "scrolled": false
   },
   "outputs": [],
   "source": [
    "sum(data)/n"
   ]
  },
  {
   "cell_type": "code",
   "execution_count": null,
   "metadata": {
    "scrolled": false
   },
   "outputs": [],
   "source": [
    "+(data...)/n"
   ]
  },
  {
   "cell_type": "code",
   "execution_count": null,
   "metadata": {
    "scrolled": false
   },
   "outputs": [],
   "source": [
    "? +"
   ]
  },
  {
   "cell_type": "code",
   "execution_count": null,
   "metadata": {
    "scrolled": false
   },
   "outputs": [],
   "source": [
    "\"\"\"\n",
    "This is a function that takes in data and returns its sum.\n",
    "\"\"\"\n",
    "function my_sum(data)\n",
    "    s = 0.0\n",
    "    for d in data\n",
    "        s += d\n",
    "    end\n",
    "    return s\n",
    "end"
   ]
  },
  {
   "cell_type": "code",
   "execution_count": null,
   "metadata": {
    "scrolled": false
   },
   "outputs": [],
   "source": [
    "? my_sum"
   ]
  },
  {
   "cell_type": "code",
   "execution_count": null,
   "metadata": {
    "scrolled": false
   },
   "outputs": [],
   "source": [
    "my_sum(data)/length(data)"
   ]
  },
  {
   "cell_type": "code",
   "execution_count": null,
   "metadata": {
    "scrolled": false
   },
   "outputs": [],
   "source": [
    "mean(data)"
   ]
  },
  {
   "cell_type": "code",
   "execution_count": null,
   "metadata": {
    "scrolled": false
   },
   "outputs": [],
   "source": [
    "data'*ones(n)/n"
   ]
  },
  {
   "cell_type": "code",
   "execution_count": null,
   "metadata": {
    "scrolled": false
   },
   "outputs": [],
   "source": [
    "dot(data,ones(n))/n"
   ]
  },
  {
   "cell_type": "code",
   "execution_count": null,
   "metadata": {
    "scrolled": false
   },
   "outputs": [],
   "source": [
    "? dot"
   ]
  },
  {
   "cell_type": "markdown",
   "metadata": {},
   "source": [
    "#### Doing it a little differently with the \"running mean\" formula"
   ]
  },
  {
   "cell_type": "markdown",
   "metadata": {},
   "source": [
    "$$\n",
    "\\overline{X}_i = \\frac{1}{i} X_i + \\frac{i-1}{i} \\overline{X}_{i-1}.\n",
    "$$"
   ]
  },
  {
   "cell_type": "code",
   "execution_count": null,
   "metadata": {
    "scrolled": false
   },
   "outputs": [],
   "source": [
    "mn = 0\n",
    "for i in 1:length(data)\n",
    "    global mn = (1/i)*data[i] + (i-1)/i*mn\n",
    "end\n",
    "mn"
   ]
  },
  {
   "cell_type": "code",
   "execution_count": null,
   "metadata": {
    "scrolled": false
   },
   "outputs": [],
   "source": [
    "mn = 0\n",
    "for (i,d) in enumerate(data)\n",
    "    global mn = (1/i)*d + (i-1)/i*mn #Note that in Jupyter `global` isn't needed here but in the REPL it is.\n",
    "end\n",
    "mn"
   ]
  },
  {
   "cell_type": "code",
   "execution_count": null,
   "metadata": {
    "scrolled": false
   },
   "outputs": [],
   "source": [
    "function my_mean(data)\n",
    "    mn = 0\n",
    "    for (i,d) in enumerate(data)\n",
    "        mn = (1/i)*d + (i-1)/i*mn\n",
    "    end\n",
    "    return mn\n",
    "end"
   ]
  },
  {
   "cell_type": "code",
   "execution_count": null,
   "metadata": {
    "scrolled": false
   },
   "outputs": [],
   "source": [
    "my_mean(data)"
   ]
  },
  {
   "cell_type": "code",
   "execution_count": null,
   "metadata": {
    "scrolled": false
   },
   "outputs": [],
   "source": [
    "fix_seed!()\n",
    "data = rand(Normal(),n) + im*rand(Normal(),n)"
   ]
  },
  {
   "cell_type": "code",
   "execution_count": null,
   "metadata": {
    "scrolled": false
   },
   "outputs": [],
   "source": [
    "mean(data)"
   ]
  },
  {
   "cell_type": "code",
   "execution_count": null,
   "metadata": {
    "scrolled": true
   },
   "outputs": [],
   "source": [
    "methods(mean)"
   ]
  },
  {
   "cell_type": "code",
   "execution_count": null,
   "metadata": {
    "scrolled": false
   },
   "outputs": [],
   "source": [
    "@which mean(data)"
   ]
  },
  {
   "cell_type": "code",
   "execution_count": null,
   "metadata": {
    "scrolled": false
   },
   "outputs": [],
   "source": [
    "methods(my_mean)"
   ]
  },
  {
   "cell_type": "code",
   "execution_count": null,
   "metadata": {
    "scrolled": false
   },
   "outputs": [],
   "source": [
    "function my_mean(data::Vector{Float64})::Float64\n",
    "    mn = 0.0\n",
    "    for (i,d) in enumerate(data)\n",
    "        mn = (1/i)*d + (i-1)/i*mn\n",
    "    end\n",
    "    return mn\n",
    "end"
   ]
  },
  {
   "cell_type": "code",
   "execution_count": null,
   "metadata": {
    "scrolled": false
   },
   "outputs": [],
   "source": [
    "methods(my_mean)"
   ]
  },
  {
   "cell_type": "code",
   "execution_count": null,
   "metadata": {
    "scrolled": false
   },
   "outputs": [],
   "source": [
    "@which my_mean(data)"
   ]
  },
  {
   "cell_type": "code",
   "execution_count": null,
   "metadata": {
    "scrolled": false
   },
   "outputs": [],
   "source": [
    "@which my_mean([1,2])"
   ]
  },
  {
   "cell_type": "code",
   "execution_count": null,
   "metadata": {
    "scrolled": false
   },
   "outputs": [],
   "source": [
    "@which my_mean([1.0,2.0])"
   ]
  },
  {
   "cell_type": "code",
   "execution_count": null,
   "metadata": {
    "scrolled": false
   },
   "outputs": [],
   "source": [
    "@which my_mean([1.0,2])"
   ]
  },
  {
   "cell_type": "code",
   "execution_count": null,
   "metadata": {
    "scrolled": false
   },
   "outputs": [],
   "source": [
    "function my_mean(data::Vector{T})::T where T\n",
    "    mn = zero(data[begin])\n",
    "    for (i,d) in enumerate(data)\n",
    "        mn = (1/i)*d + (i-1)/i*mn\n",
    "    end\n",
    "    return mn\n",
    "end"
   ]
  },
  {
   "cell_type": "code",
   "execution_count": null,
   "metadata": {
    "scrolled": false
   },
   "outputs": [],
   "source": [
    "methods(my_mean)"
   ]
  },
  {
   "cell_type": "markdown",
   "metadata": {},
   "source": [
    "#### The mean of other types"
   ]
  },
  {
   "cell_type": "code",
   "execution_count": null,
   "metadata": {
    "scrolled": false
   },
   "outputs": [],
   "source": [
    "fix_seed!()\n",
    "data = [rand(Normal(),2,2) for _ in 1:5]"
   ]
  },
  {
   "cell_type": "code",
   "execution_count": null,
   "metadata": {
    "scrolled": false
   },
   "outputs": [],
   "source": [
    "mean(data)"
   ]
  },
  {
   "cell_type": "code",
   "execution_count": null,
   "metadata": {
    "scrolled": false
   },
   "outputs": [],
   "source": [
    "my_mean(data)"
   ]
  },
  {
   "cell_type": "code",
   "execution_count": null,
   "metadata": {
    "scrolled": false
   },
   "outputs": [],
   "source": [
    "@which my_mean(data)"
   ]
  },
  {
   "cell_type": "markdown",
   "metadata": {},
   "source": [
    "#### A glimpse under the hood"
   ]
  },
  {
   "cell_type": "code",
   "execution_count": null,
   "metadata": {
    "scrolled": true
   },
   "outputs": [],
   "source": [
    "@code_lowered my_mean(data)"
   ]
  },
  {
   "cell_type": "code",
   "execution_count": null,
   "metadata": {
    "scrolled": true
   },
   "outputs": [],
   "source": [
    "@code_llvm my_mean(data)"
   ]
  },
  {
   "cell_type": "code",
   "execution_count": null,
   "metadata": {
    "scrolled": true
   },
   "outputs": [],
   "source": [
    "@code_native my_mean(data)"
   ]
  },
  {
   "cell_type": "markdown",
   "metadata": {},
   "source": [
    "#### An array of arrays"
   ]
  },
  {
   "cell_type": "code",
   "execution_count": null,
   "metadata": {
    "scrolled": false
   },
   "outputs": [],
   "source": [
    "fix_seed!()\n",
    "data = [rand(Normal(μ,1),5) for μ in 1:5] #\\mu + [TAB]"
   ]
  },
  {
   "cell_type": "code",
   "execution_count": null,
   "metadata": {
    "scrolled": false
   },
   "outputs": [],
   "source": [
    "mean.(data)"
   ]
  },
  {
   "cell_type": "markdown",
   "metadata": {},
   "source": [
    "#### A matrix of data"
   ]
  },
  {
   "cell_type": "code",
   "execution_count": null,
   "metadata": {
    "scrolled": false
   },
   "outputs": [],
   "source": [
    "data = hcat(data...)"
   ]
  },
  {
   "cell_type": "code",
   "execution_count": null,
   "metadata": {
    "scrolled": false
   },
   "outputs": [],
   "source": [
    "heatmap(data',yflip=true)"
   ]
  },
  {
   "cell_type": "code",
   "execution_count": null,
   "metadata": {
    "scrolled": false
   },
   "outputs": [],
   "source": [
    "mean.(data) #does nothing useful"
   ]
  },
  {
   "cell_type": "code",
   "execution_count": null,
   "metadata": {
    "scrolled": false
   },
   "outputs": [],
   "source": [
    "mean(data,dims=1) #better!"
   ]
  },
  {
   "cell_type": "markdown",
   "metadata": {},
   "source": [
    "#### Dictionaries"
   ]
  },
  {
   "cell_type": "code",
   "execution_count": null,
   "metadata": {
    "scrolled": false
   },
   "outputs": [],
   "source": [
    "data = Dict()\n",
    "data[:cats] = rand(Normal(2.3,1),5)\n",
    "data[\"dogs\"] = rand(Normal(5.2,1),5)\n",
    "data[25] = rand(Normal(7.8,1),5)\n",
    "data"
   ]
  },
  {
   "cell_type": "code",
   "execution_count": null,
   "metadata": {
    "scrolled": false
   },
   "outputs": [],
   "source": [
    "keys(data)"
   ]
  },
  {
   "cell_type": "code",
   "execution_count": null,
   "metadata": {
    "scrolled": false
   },
   "outputs": [],
   "source": [
    "mean(data[:cats])"
   ]
  },
  {
   "cell_type": "code",
   "execution_count": null,
   "metadata": {
    "scrolled": false
   },
   "outputs": [],
   "source": [
    "mean(data[\"dogs\"])"
   ]
  },
  {
   "cell_type": "code",
   "execution_count": null,
   "metadata": {
    "scrolled": false
   },
   "outputs": [],
   "source": [
    "mean(data[\"cats\"])"
   ]
  },
  {
   "cell_type": "code",
   "execution_count": null,
   "metadata": {
    "scrolled": false
   },
   "outputs": [],
   "source": [
    "mean(data[Symbol(\"cats\")])"
   ]
  },
  {
   "cell_type": "code",
   "execution_count": null,
   "metadata": {
    "scrolled": false
   },
   "outputs": [],
   "source": [
    "data[Symbol(\"cats\")] |> mean"
   ]
  },
  {
   "cell_type": "markdown",
   "metadata": {},
   "source": [
    "#### Tuples"
   ]
  },
  {
   "cell_type": "code",
   "execution_count": null,
   "metadata": {
    "scrolled": false
   },
   "outputs": [],
   "source": [
    "fix_seed!()\n",
    "rn() = rand(Normal())\n",
    "data = (rn(), rn(),rn())"
   ]
  },
  {
   "cell_type": "code",
   "execution_count": null,
   "metadata": {
    "scrolled": false
   },
   "outputs": [],
   "source": [
    "typeof(data)"
   ]
  },
  {
   "cell_type": "code",
   "execution_count": null,
   "metadata": {
    "scrolled": false
   },
   "outputs": [],
   "source": [
    "mean(data)"
   ]
  },
  {
   "cell_type": "code",
   "execution_count": null,
   "metadata": {
    "scrolled": false
   },
   "outputs": [],
   "source": [
    "data[2]"
   ]
  },
  {
   "cell_type": "code",
   "execution_count": null,
   "metadata": {
    "scrolled": false
   },
   "outputs": [],
   "source": [
    "data[2] = 7.8 #Tuples are immutable! "
   ]
  },
  {
   "cell_type": "markdown",
   "metadata": {},
   "source": [
    "#### Structs"
   ]
  },
  {
   "cell_type": "code",
   "execution_count": null,
   "metadata": {
    "scrolled": false
   },
   "outputs": [],
   "source": [
    "struct Person\n",
    "    weight::Float64\n",
    "    height::Float64\n",
    "end"
   ]
  },
  {
   "cell_type": "code",
   "execution_count": null,
   "metadata": {
    "scrolled": false
   },
   "outputs": [],
   "source": [
    "someone = Person(102, 180)"
   ]
  },
  {
   "cell_type": "code",
   "execution_count": null,
   "metadata": {
    "scrolled": false
   },
   "outputs": [],
   "source": [
    "someone.weight = 103 #Structs are immutable unless you state immutable"
   ]
  },
  {
   "cell_type": "code",
   "execution_count": null,
   "metadata": {
    "scrolled": false
   },
   "outputs": [],
   "source": [
    "me = Person(102, 180)\n",
    "you = Person(83, 170)\n",
    "me + you #can't add persons just like that"
   ]
  },
  {
   "cell_type": "code",
   "execution_count": null,
   "metadata": {
    "scrolled": false
   },
   "outputs": [],
   "source": [
    "import Base: + \n",
    "\n",
    "function +(x::Person, y::Person)\n",
    "    Person(x.weight + y.weight, x.height + y.height)\n",
    "end"
   ]
  },
  {
   "cell_type": "code",
   "execution_count": null,
   "metadata": {
    "scrolled": false
   },
   "outputs": [],
   "source": [
    "me + you #Now you can"
   ]
  },
  {
   "cell_type": "code",
   "execution_count": null,
   "metadata": {
    "scrolled": false
   },
   "outputs": [],
   "source": [
    "import Base: /\n",
    "function /(x::Person, n::Real)\n",
    "    Person(x.weight/n, x.height/n)\n",
    "end"
   ]
  },
  {
   "cell_type": "code",
   "execution_count": null,
   "metadata": {
    "scrolled": false
   },
   "outputs": [],
   "source": [
    "mean([me,you]) #With + and / (by number) we can compute the mean of persons"
   ]
  },
  {
   "cell_type": "markdown",
   "metadata": {},
   "source": [
    "#### Dataframes "
   ]
  },
  {
   "cell_type": "code",
   "execution_count": null,
   "metadata": {
    "scrolled": false
   },
   "outputs": [],
   "source": [
    "df = CSV.File(\"./data/temperatures.csv\") |> DataFrame"
   ]
  },
  {
   "cell_type": "code",
   "execution_count": null,
   "metadata": {
    "scrolled": false
   },
   "outputs": [],
   "source": [
    "data = df.GoldCoast\n",
    "mean(data)"
   ]
  },
  {
   "cell_type": "markdown",
   "metadata": {},
   "source": [
    "#### All kind of other descriptive statistics"
   ]
  },
  {
   "cell_type": "code",
   "execution_count": null,
   "metadata": {
    "scrolled": false
   },
   "outputs": [],
   "source": [
    "println(\"Sample Mean: \", mean(data))\n",
    "println(\"Harmonic ≤ Geometric ≤ Arithmetic \",      #\\le + [TAB]\n",
    "            (harmmean(data), geomean(data), mean(data)))\n",
    "\n",
    "println(\"Sample Variance: \",var(data))\n",
    "println(\"Sample Standard Deviation: \",std(data))\n",
    "println(\"Minimum: \", minimum(data))\n",
    "println(\"Maximum: \", maximum(data))\n",
    "println(\"Median: \", median(data))\n",
    "println(\"95th percentile: \", percentile(data, 95))\n",
    "println(\"0.95 quantile: \", quantile(data, 0.95))\n",
    "println(\"Interquartile range: \", iqr(data),\"\\n\")\n",
    "\n",
    "summarystats(data)"
   ]
  },
  {
   "cell_type": "code",
   "execution_count": null,
   "metadata": {
    "scrolled": false
   },
   "outputs": [],
   "source": [
    "min(5,2,-3) #Minimum of individual function arguments"
   ]
  },
  {
   "cell_type": "code",
   "execution_count": null,
   "metadata": {
    "scrolled": false
   },
   "outputs": [],
   "source": [
    "minimum([5,2,-3]) #Minimum of an array (AbstractArray)"
   ]
  },
  {
   "cell_type": "code",
   "execution_count": null,
   "metadata": {
    "scrolled": false
   },
   "outputs": [],
   "source": [
    "min([5,2,-3]) #doesn't work"
   ]
  },
  {
   "cell_type": "code",
   "execution_count": null,
   "metadata": {
    "scrolled": false
   },
   "outputs": [],
   "source": [
    "min([5,2,-3]...) #The splat operator passes the arguments "
   ]
  },
  {
   "cell_type": "code",
   "execution_count": null,
   "metadata": {
    "scrolled": false
   },
   "outputs": [],
   "source": [
    "fix_seed!()\n",
    "data = rand(Normal(),10^6);"
   ]
  },
  {
   "cell_type": "code",
   "execution_count": null,
   "metadata": {
    "scrolled": false
   },
   "outputs": [],
   "source": [
    "@time begin\n",
    "    minimum(data)\n",
    "end"
   ]
  },
  {
   "cell_type": "code",
   "execution_count": null,
   "metadata": {
    "scrolled": false
   },
   "outputs": [],
   "source": [
    "@time begin\n",
    "    min(data...)\n",
    "end"
   ]
  },
  {
   "cell_type": "markdown",
   "metadata": {},
   "source": [
    "<a id='something-rand'></a>\n",
    "# Something `rand`.\n",
    "[home](#home)"
   ]
  },
  {
   "cell_type": "markdown",
   "metadata": {},
   "source": [
    "#### The Monty Hall Problem "
   ]
  },
  {
   "cell_type": "code",
   "execution_count": null,
   "metadata": {
    "scrolled": false
   },
   "outputs": [],
   "source": [
    "fix_seed!()\n",
    "\n",
    "function montyHall(switch_policy)\n",
    "    prize, choice = rand(1:3), rand(1:3)\n",
    "    if prize == choice\n",
    "        revealed = rand(setdiff(1:3,choice))\n",
    "    else\n",
    "        revealed = rand(setdiff(1:3,[prize,choice]))\n",
    "    end\n",
    "\n",
    "    if switch_policy\n",
    "        choice = setdiff(1:3,[revealed,choice])[1]\n",
    "    end\n",
    "    return choice == prize\n",
    "end\n",
    "\n",
    "N = 10^6\n",
    "println(\"Success probability with policy I (stay): \",  sum([montyHall(false) for _ in 1:N])/N)\n",
    "println(\"Success probability with policy II (switch): \", sum([montyHall(true) for _ in 1:N])/N)"
   ]
  },
  {
   "cell_type": "markdown",
   "metadata": {},
   "source": [
    "#### Common random numbers"
   ]
  },
  {
   "cell_type": "markdown",
   "metadata": {},
   "source": [
    "$$\n",
    "X \\sim \\text { Uniform }(0,2 \\lambda(1-\\lambda))\n",
    "$$\n",
    "\n",
    "$$\n",
    "\\mathbb{E}_{\\lambda}[X]=\\lambda(1-\\lambda)\n",
    "$$"
   ]
  },
  {
   "cell_type": "code",
   "execution_count": null,
   "metadata": {
    "scrolled": false
   },
   "outputs": [],
   "source": [
    "seed = 1\n",
    "N = 100\n",
    "λ_grid = 0.01:0.01:0.99\n",
    "\n",
    "theorM(λ) = mean(Uniform(0,2λ*(1-λ)))\n",
    "estM(λ) = mean(rand(Uniform(0,2λ*(1-λ)),N))\n",
    "\n",
    "function estM(λ, seed)\n",
    "    Random.seed!(seed)\n",
    "    estM(λ)\n",
    "end\n",
    "\n",
    "trueM = theorM.(λ_grid)\n",
    "estM0 = estM.(λ_grid)\n",
    "estMCRN = estM.(λ_grid,seed)\n",
    "\n",
    "plot(λ_grid, trueM, c=:black, label=\"Expected curve\")\n",
    "plot!(λ_grid, estM0, c=:blue, label=\"No CRN estiamte\")\n",
    "plot!(λ_grid, estMCRN, c=:red, label=\"CRN estimate\", \n",
    "    xlims=(0,1), ylims=(0,0.4), xlabel=L\"\\lambda\", ylabel = \"Mean\")"
   ]
  },
  {
   "cell_type": "markdown",
   "metadata": {},
   "source": [
    "#### Multiple RNGs"
   ]
  },
  {
   "cell_type": "markdown",
   "metadata": {},
   "source": [
    "Say we want to estimate the mean of \n",
    "$$\n",
    "X=\\sum_{i=1}^{N} Z_{i}\n",
    "$$\n",
    "with $N \\sim \\operatorname{Poisson}(K \\lambda)$ and $Z_{i} \\sim \\text { Uniform }(0,2(1-\\lambda))$  with  $\\lambda \\in(0,1)$  and $K>0$."
   ]
  },
  {
   "cell_type": "markdown",
   "metadata": {},
   "source": [
    "$$\n",
    "\\mathbb{E}_{\\lambda}[X]=K \\lambda(1-\\lambda)\n",
    "$$"
   ]
  },
  {
   "cell_type": "code",
   "execution_count": null,
   "metadata": {
    "scrolled": false
   },
   "outputs": [],
   "source": [
    "K = 50\n",
    "\n",
    "prn(λ,rng) = quantile(Poisson(λ),rand(rng))\n",
    "zDist(λ) = Uniform(0,2*(1-λ))\n",
    "\n",
    "rv(λ,rng) = sum([rand(rng,zDist(λ)) for _ in 1:prn(K*λ, rng)])\n",
    "rv2(λ,rng1,rng2) = sum([rand(rng1,zDist(λ)) for _ in 1:prn(K*λ,rng2)])\n",
    "\n",
    "mEst(λ,rng) = mean([rv(λ,rng) for _ in 1:N])\n",
    "mEst2(λ,rng1,rng2) = mean([rv2(λ,rng1,rng2) for _ in 1:N])\n",
    "\n",
    "#No Common Random Numbers (CRN)\n",
    "function mGraph0(seed)\n",
    "    singleRng = MersenneTwister(seed)\n",
    "    [mEst(λ,singleRng) for λ in λ_grid]\n",
    "end\n",
    "\n",
    "#CRN but single random number generator (RNG)\n",
    "mGraph1(seed) = [mEst(λ,MersenneTwister(seed)) for λ in λ_grid]\n",
    "\n",
    "#CRN with two random number generators\n",
    "mGraph2(seed1,seed2) = [mEst2(λ,MersenneTwister(seed1), MersenneTwister(seed2)) for λ in λ_grid]\n",
    "\n",
    "plot(λ_grid,mGraph0(1987), c=:red, label=\"No CRN\")\n",
    "plot!(λ_grid,mGraph1(1987), c=:green, label=\"CRN and one RNG\")\n",
    "plot!(λ_grid,mGraph2(1987,1988), c=:blue, label=\"CRN and two RNG's\", xlims=(0,1),ylims=(0,14),\n",
    "    xlabel=L\"\\lambda\", ylabel = \"Mean\")"
   ]
  },
  {
   "cell_type": "code",
   "execution_count": null,
   "metadata": {
    "scrolled": false
   },
   "outputs": [],
   "source": [
    "argMaxλ(graph) = λ_grid[findmax(graph)[2]]\n",
    "\n",
    "M = 10^3\n",
    "std0 = std([argMaxλ(mGraph0(seed)) for seed in 1:M])\n",
    "std1 = std([argMaxλ(mGraph1(seed)) for seed in 1:M])\n",
    "std2 = std([argMaxλ(mGraph2(seed,seed+M)) for seed in 1:M])\n",
    "\n",
    "println(\"Standard deviation with no CRN: \", std0)\n",
    "println(\"Standard deviation with CRN and single RNG: \", std1)\n",
    "println(\"Standard deviation with CRN and two RNGs: \", std2)"
   ]
  },
  {
   "cell_type": "markdown",
   "metadata": {},
   "source": [
    "<a id='just-rcall'></a>\n",
    "# Do you still miss R? So Just `RCall`.\n",
    "[home](#home)"
   ]
  },
  {
   "cell_type": "markdown",
   "metadata": {},
   "source": [
    "See the docs for [RCall.jl](https://juliainterop.github.io/RCall.jl/stable/)"
   ]
  },
  {
   "cell_type": "code",
   "execution_count": null,
   "metadata": {
    "scrolled": false
   },
   "outputs": [],
   "source": [
    "using RCall\n",
    "\n",
    "data1 = DataFrame(CSV.File(\"./data/machine1.csv\", header=false))[:,1]\n",
    "data2 = DataFrame(CSV.File(\"./data/machine2.csv\", header=false))[:,1]\n",
    "data3 = DataFrame(CSV.File(\"./data/machine3.csv\", header=false))[:,1]\n",
    "\n",
    "function R_ANOVA(allData)\n",
    "    data = vcat([ [x fill(i, length(x))] for (i, x) in enumerate(allData) ]...)\n",
    "    df = DataFrame(data, [:Diameter, :MachNo])\n",
    "    @rput df\n",
    "\n",
    "    R\"\"\"\n",
    "    df$MachNo <- as.factor(df$MachNo)\n",
    "    anova <- summary(aov( Diameter ~ MachNo, data=df))\n",
    "    fVal <- anova[[1]][\"F value\"][[1]][1]\n",
    "    pVal <- anova[[1]][\"Pr(>F)\"][[1]][1]\n",
    "    \"\"\"\n",
    "    println(\"R ANOVA f-value: \", @rget fVal)\n",
    "    println(\"R ANOVA p-value: \", @rget pVal)\n",
    "end\n",
    "\n",
    "R_ANOVA([data1, data2, data3])"
   ]
  },
  {
   "cell_type": "markdown",
   "metadata": {},
   "source": [
    "To use Julia from R, use [JuliaCall](https://cran.r-project.org/web/packages/JuliaCall/index.html)"
   ]
  },
  {
   "cell_type": "markdown",
   "metadata": {},
   "source": [
    "<a id='some-plots'></a>\n",
    "# Some `Plots`.\n",
    "[home](#home)"
   ]
  },
  {
   "cell_type": "markdown",
   "metadata": {},
   "source": [
    "See example [image gallery](https://statisticswithjulia.org/gallery.html) with code - part of \"Statistics with Julia\" book."
   ]
  },
  {
   "cell_type": "markdown",
   "metadata": {},
   "source": [
    "See docs for [Plots.jl](http://docs.juliaplots.org/latest//) and [StatsPlots.jl](https://github.com/JuliaPlots/StatsPlots.jl)"
   ]
  },
  {
   "cell_type": "code",
   "execution_count": null,
   "metadata": {
    "scrolled": false
   },
   "outputs": [],
   "source": [
    "function hailLength(x::Int)\n",
    "    n = 0\n",
    "    while x != 1\n",
    "        if x % 2 == 0\n",
    "            x = x ÷ 2 #\\div + [TAB]\n",
    "        else\n",
    "            x = 3x +1\n",
    "        end\n",
    "        n += 1\n",
    "    end\n",
    "    return n\n",
    "end\n",
    "\n",
    "lengths = [hailLength(x₀) for x₀ in 2:10^7] #\\_0 + [TAB]\n",
    "\n",
    "histogram(lengths, bins=1000, normed=:true, \n",
    "    fill=(:blue, true), la=0, legend=:none,\n",
    "    xlims=(0, 500), ylims=(0, 0.012),\n",
    "    xlabel=\"Length\", ylabel=\"Frequency\")"
   ]
  },
  {
   "cell_type": "code",
   "execution_count": null,
   "metadata": {
    "scrolled": false
   },
   "outputs": [],
   "source": [
    "data = CSV.File(\"./data/temperatures.csv\") |> DataFrame\n",
    "brisbane = data.Brisbane\n",
    "goldcoast = data.GoldCoast\n",
    "\n",
    "diff = brisbane - goldcoast\n",
    "dates = [Date(\n",
    "            Year(data.Year[i]), \n",
    "            Month(data.Month[i]), \n",
    "            Day(data.Day[i])\n",
    "        ) for i in 1:nrow(data)]\n",
    "\n",
    "fortnightRange = 250:263\n",
    "brisFortnight = brisbane[fortnightRange]\n",
    "goldFortnight = goldcoast[fortnightRange]\n",
    "\n",
    "p1 = plot(dates, [brisbane goldcoast], \n",
    "        c=[:blue :red], xlabel=\"Time\", ylabel=\"Temperature\", label=[\"Brisbane\" \"Gold Coast\"])\n",
    "p2 = plot(dates[fortnightRange], [brisFortnight goldFortnight], xticks=:none,\n",
    "        c=[:blue :red], m=(:dot, 5, Plots.stroke(1)), ylabel=\"Temperature\",\n",
    "        label=[\"Brisbane\" \"Gold Coast\"], xlabel=\"Time within one fortnight\")\n",
    "p3 = plot(dates, diff, \n",
    "        c=:black, ylabel=\"Temperature Difference\",legend=false)\n",
    "p4 = histogram(diff, bins=-4:0.5:6, \n",
    "        ylims=(0,140), legend = false,\n",
    "        xlabel=\"Temperature Difference\", ylabel=\"Frequency\")\n",
    "plot(p1,p2,p3,p4, size = (800,500), margin = 5mm)"
   ]
  },
  {
   "cell_type": "code",
   "execution_count": null,
   "metadata": {
    "scrolled": false
   },
   "outputs": [],
   "source": [
    "fix_seed!()\n",
    "\n",
    "μ₁, σ₁ = 10, 5 #\\mu + [TAB] \\_1 + [TAB] etc...\n",
    "μ₂, σ₂ = 40, 12\n",
    "dist1, dist2 = Normal(μ₁,σ₁), Normal(μ₂,σ₂)\n",
    "p = 0.3\n",
    "mixRv() = (rand() <= p) ? rand(dist1) : rand(dist2)\n",
    "\n",
    "n = 2000\n",
    "data = [mixRv() for _ in 1:n]\n",
    "\n",
    "density(data, c=:blue, label=\"Density via StatsPlots\", xlims=(-20,80), ylims=(0,0.035))\n",
    "stephist!(data, bins=50, c=:black, norm=true, label=\"Histogram\", xlabel=\"x\", ylabel = \"Density\")"
   ]
  },
  {
   "cell_type": "code",
   "execution_count": null,
   "metadata": {
    "scrolled": false
   },
   "outputs": [],
   "source": [
    "mixPDF(x) = p*pdf(dist1,x) + (1-p)*pdf(dist2,x)\n",
    "\n",
    "kdeDist = kde(data)\n",
    "\n",
    "xGrid = -20:0.1:80\n",
    "pdfKDE = pdf(kdeDist,xGrid)\n",
    "\n",
    "p1 = plot(xGrid, pdfKDE, c=:blue, label=\"KDE PDF\")\n",
    "stephist!(data, bins=50, c=:black, normed=:true, label=\"Histogram\")\n",
    "plot!(xGrid, mixPDF.(xGrid), c=:red, label=\"Underlying PDF\",\n",
    "    xlims=(-20,80), ylims=(0,0.035), legend=:topleft,\n",
    "    xlabel=\"X\", ylabel = \"Density\")\n",
    "\n",
    "hVals = [0.5,2,10]\n",
    "kdeS = [kde(data,bandwidth=h) for h in hVals]\n",
    "\n",
    "p2 = plot(xGrid, pdf(kdeS[1],xGrid), c = :green, label= \"h=$(hVals[1])\")\n",
    "plot!(xGrid, pdf(kdeS[2],xGrid), c = :blue, label= \"h=$(hVals[2])\")\n",
    "plot!(xGrid, pdf(kdeS[3],xGrid), c = :purple, label= \"h=$(hVals[3])\",\n",
    "    xlims=(-20,80), ylims=(0,0.035), legend=:topleft, \n",
    "    xlabel=\"X\", ylabel = \"Density\")\n",
    "\n",
    "plot(p1,p2,size = (800,400))"
   ]
  },
  {
   "cell_type": "code",
   "execution_count": null,
   "metadata": {
    "scrolled": false
   },
   "outputs": [],
   "source": [
    "fix_seed!()\n",
    "\n",
    "mixCDF(x) = p*cdf(dist1,x) + (1-p)*cdf(dist2,x)\n",
    "\n",
    "n = [30, 100]\n",
    "data1 = [mixRv() for _ in 1:n[1]]\n",
    "data2 = [mixRv() for _ in 1:n[2]]\n",
    "\n",
    "empiricalCDF1 = ecdf(data1)\n",
    "empiricalCDF2 = ecdf(data2)\n",
    "\n",
    "xGrid = -10:0.1:80\n",
    "plot(xGrid,empiricalCDF1.(xGrid), c=:blue, label=\"ECDF with n = $(n[1])\")\n",
    "plot!(xGrid,empiricalCDF2.(xGrid), c=:red, label=\"ECDF with n = $(n[2])\")\n",
    "plot!(xGrid, mixCDF.(xGrid), c=:black, label=\"Underlying CDF\",\n",
    "    xlims=(-10,80), ylims=(0,1), \n",
    "    xlabel=\"x\", ylabel=\"Probability\", legend=:topleft)"
   ]
  },
  {
   "cell_type": "code",
   "execution_count": null,
   "metadata": {
    "scrolled": false
   },
   "outputs": [],
   "source": [
    "fix_seed!()\n",
    "\n",
    "b1, b2 = 0.5 , 2\n",
    "dist1, dist2, = Beta(b1,b1), Beta(b2,b2)\n",
    " \n",
    "n = 2000\n",
    "data1 = rand(dist1,n)\n",
    "data2 = rand(dist2,n)\n",
    "\n",
    "stephist(data1, bins=15, label = \"beta($b1,$b1)\", c = :red, normed = true)\n",
    "p1 = stephist!(data2, bins=15, label = \"beta($b2,$b2)\",\n",
    "        c = :blue, xlabel=\"x\", ylabel=\"Density\",normed = true)\n",
    "\n",
    "p2 = qqplot(data1, data2, c=:black, ms=1, msw =0,\n",
    "        xlabel=\"Quantiles for beta($b1,$b1) sample\",\n",
    "        ylabel=\"Quantiles for beta($b2,$b2) sample\",\n",
    "        legend=false)\n",
    "\n",
    "plot(p1, p2, size=(800,400), margin = 5mm)"
   ]
  },
  {
   "cell_type": "code",
   "execution_count": null,
   "metadata": {
    "scrolled": false
   },
   "outputs": [],
   "source": [
    "data1 = parse.(Float64, readlines(\"./data/machine1.csv\"))\n",
    "data2 = parse.(Float64, readlines(\"./data/machine2.csv\"))\n",
    "data3 = parse.(Float64, readlines(\"./data/machine3.csv\"))\n",
    "\n",
    "boxplot([data1,data2,data3], c=[:blue :red :green], label=\"\", \n",
    "    xticks=([1:1:3;], [\"1\", \"2\", \"3\"]), xlabel=\"Machine type\",\n",
    "    ylabel=\"Pipe Diameter (mm)\")"
   ]
  },
  {
   "cell_type": "markdown",
   "metadata": {},
   "source": [
    "<a id='favorite-distribution'></a>\n",
    "# Your favorite `Distribution`.\n",
    "[home](#home)"
   ]
  },
  {
   "cell_type": "markdown",
   "metadata": {},
   "source": [
    "See [Docs for `Distributions.jl`](https://juliastats.org/Distributions.jl/latest/)"
   ]
  },
  {
   "cell_type": "code",
   "execution_count": null,
   "metadata": {
    "scrolled": false
   },
   "outputs": [],
   "source": [
    "dist = Normal(2.5,1.2)"
   ]
  },
  {
   "cell_type": "code",
   "execution_count": null,
   "metadata": {
    "scrolled": false
   },
   "outputs": [],
   "source": [
    "mean(dist), var(dist)"
   ]
  },
  {
   "cell_type": "code",
   "execution_count": null,
   "metadata": {
    "scrolled": false
   },
   "outputs": [],
   "source": [
    "fix_seed!()\n",
    "rand(dist,3,2,5) #a 3-tensor"
   ]
  },
  {
   "cell_type": "code",
   "execution_count": null,
   "metadata": {
    "scrolled": false
   },
   "outputs": [],
   "source": [
    "? NegativeBinomial"
   ]
  },
  {
   "cell_type": "code",
   "execution_count": null,
   "metadata": {
    "scrolled": false
   },
   "outputs": [],
   "source": [
    "fix_seed!()\n",
    "\n",
    "function rouletteSpins(r,p)\n",
    "    x = 0\n",
    "    wins = 0\n",
    "    while true\n",
    "        x += 1\n",
    "        if rand() < p\n",
    "            wins += 1\n",
    "            if wins == r\n",
    "                return x\n",
    "            end\n",
    "        end\n",
    "    end\n",
    "end\n",
    "\n",
    "r, p, N = 5, 18/37,10^6\n",
    "xGrid = r:r+15\n",
    "\n",
    "mcEstimate = counts([rouletteSpins(r,p) for _ in 1:N],xGrid)/N\n",
    "\n",
    "nbDist = NegativeBinomial(r,p)\n",
    "nbPmf = [pdf(nbDist,x-r) for x in xGrid]\n",
    "\n",
    "plot( xGrid, mcEstimate, \n",
    "    line=:stem, marker=:circle, c=:blue, \n",
    "    ms=10, msw=0, lw=4, label=\"MC estimate\")\n",
    "plot!( xGrid, nbPmf, line=:stem, \n",
    "    marker=:xcross, c=:red, ms=6, msw=0, lw=2, label=\"PMF\", \n",
    "    xlims=(0,maximum(xGrid)), ylims=(0,0.2), \n",
    "    xlabel=\"x\", ylabel=\"Probability\")"
   ]
  },
  {
   "cell_type": "code",
   "execution_count": null,
   "metadata": {
    "scrolled": false
   },
   "outputs": [],
   "source": [
    "function plot_it(N)\n",
    "    fix_seed!()\n",
    "    mcEstimate = counts([rouletteSpins(r,p) for _ in 1:N],xGrid)/N\n",
    "\n",
    "    nbDist = NegativeBinomial(r,p)\n",
    "    nbPmf = [pdf(nbDist,x-r) for x in xGrid]\n",
    "\n",
    "    plot( xGrid, mcEstimate, \n",
    "        line=:stem, marker=:circle, c=:blue, \n",
    "        ms=10, msw=0, lw=4, label=\"MC estimate\")\n",
    "    plot!( xGrid, nbPmf, line=:stem, \n",
    "        marker=:xcross, c=:red, ms=6, msw=0, lw=2, label=\"PMF\", \n",
    "        xlims=(0,maximum(xGrid)), ylims=(0,0.2), \n",
    "        xlabel=\"x\", ylabel=\"Probability\",\n",
    "        title=\"N = $N\")\n",
    "end\n",
    "\n",
    "anim = Animation()\n",
    "\n",
    "for N in union(10:10:100,200:100,1000,2000:1000:10^4)\n",
    "    plot_it(N)\n",
    "    frame(anim)\n",
    "end\n",
    "\n",
    "gif(anim,\"sample_animation.gif\",fps = 3)"
   ]
  },
  {
   "cell_type": "code",
   "execution_count": null,
   "metadata": {
    "scrolled": false
   },
   "outputs": [],
   "source": [
    "plot((x)->pdf(Normal(),x),label = \"Standard Normal\")\n",
    "plot!((x)->pdf(Cauchy(),x),label = \"Standard Cauchy\")"
   ]
  },
  {
   "cell_type": "code",
   "execution_count": null,
   "metadata": {
    "scrolled": false
   },
   "outputs": [],
   "source": [
    "fix_seed!()\n",
    "\n",
    "n = 10^6\n",
    "data = rand(Normal(), n)\n",
    "#data = rand(Cauchy(),n) #Try this instead\n",
    "averages = accumulate(+,data) ./ (1:n)\n",
    "\n",
    "plot( 1:n, averages, \n",
    "    c=:blue, legend=:none, xscale=:log10, xlims=(1,n), xlabel=\"n\", ylabel=\"Running average\")"
   ]
  },
  {
   "cell_type": "code",
   "execution_count": null,
   "metadata": {
    "scrolled": false
   },
   "outputs": [],
   "source": [
    "fix_seed!()\n",
    "\n",
    "N = 10^4\n",
    "\n",
    "Σ = [ 6 4 ;\n",
    "         4 9]\n",
    "μ = [15 ; \n",
    "       20]\n",
    "A = cholesky(Σ).L\n",
    "\n",
    "rngGens = [()->rand(Normal()), \n",
    "           ()->rand(Uniform(-sqrt(3),sqrt(3))),\n",
    "           ()->rand(Exponential())-1]\n",
    "\n",
    "rv(rg) = A*[rg(),rg()] + μ\n",
    "    \n",
    "data = [[rv(r) for _ in 1:N] for r in rngGens]\n",
    "\n",
    "stats(data) = begin\n",
    "    data1, data2 = first.(data),last.(data)\n",
    "    println(round(mean(data1),digits=2), \"\\t\",round(mean(data2),digits=2),\"\\t\",\n",
    "            round(var(data1),digits=2), \"\\t\", round(var(data2),digits=2), \"\\t\",\n",
    "            round(cov(data1,data2),digits=2))\n",
    "end\n",
    "\n",
    "println(\"Mean1\\tMean2\\tVar1\\tVar2\\tCov\")\n",
    "for d in data\n",
    "    stats(d)\n",
    "end\n",
    "\n",
    "scatter(first.(data[1]), last.(data[1]), c=:blue, ms=1, msw=0, label=\"Normal\")\n",
    "scatter!(first.(data[2]), last.(data[2]), c=:red, ms=1, msw=0, label=\"Uniform\")\n",
    "scatter!(first.(data[3]), last.(data[3]), c=:green, ms=1, msw=0,label=\"Exponential\",\n",
    "    xlims=(0,40), ylims=(0,40), legend=:bottomright, ratio=:equal,\n",
    "    xlabel=L\"X_1\", ylabel=L\"X_2\")"
   ]
  },
  {
   "cell_type": "code",
   "execution_count": null,
   "metadata": {},
   "outputs": [],
   "source": [
    "dist = MvNormal([1,1],[2 2.3; 2.3 4])"
   ]
  },
  {
   "cell_type": "code",
   "execution_count": null,
   "metadata": {},
   "outputs": [],
   "source": [
    "cor(dist)"
   ]
  },
  {
   "cell_type": "code",
   "execution_count": null,
   "metadata": {},
   "outputs": [],
   "source": [
    "rand(dist,20)"
   ]
  },
  {
   "cell_type": "markdown",
   "metadata": {},
   "source": [
    "See also [TruncatedDistributions.jl](https://github.com/yoninazarathy/TruncatedDistributions.jl) - still in progress as of July 2021."
   ]
  },
  {
   "cell_type": "markdown",
   "metadata": {},
   "source": [
    "<a id='love-dataframes'></a>\n",
    "# We love `DataFrames`.\n",
    "[home](#home)"
   ]
  },
  {
   "cell_type": "markdown",
   "metadata": {},
   "source": [
    "See also:\n",
    "\n",
    "* Yesterday's (recorded) [Dataframes tutorial](https://github.com/bkamins/JuliaCon2021-DataFrames-Tutorial) or [here](https://pretalx.com/juliacon2021/talk/FXZXMB/) by Bogumił Kamiński.\n",
    "* Docs for [DataFrames.jl](https://dataframes.juliadata.org/stable/)."
   ]
  },
  {
   "cell_type": "code",
   "execution_count": null,
   "metadata": {
    "scrolled": false
   },
   "outputs": [],
   "source": [
    "ENV[\"LINES\"] = 10\n",
    "data = CSV.File(\"./data/purchaseData.csv\") |> DataFrame"
   ]
  },
  {
   "cell_type": "code",
   "execution_count": null,
   "metadata": {
    "scrolled": false
   },
   "outputs": [],
   "source": [
    "size(data)"
   ]
  },
  {
   "cell_type": "code",
   "execution_count": null,
   "metadata": {
    "scrolled": false
   },
   "outputs": [],
   "source": [
    "names(data)"
   ]
  },
  {
   "cell_type": "code",
   "execution_count": null,
   "metadata": {
    "scrolled": false
   },
   "outputs": [],
   "source": [
    "first(data, 6)"
   ]
  },
  {
   "cell_type": "code",
   "execution_count": null,
   "metadata": {
    "scrolled": false
   },
   "outputs": [],
   "source": [
    "describe(data)"
   ]
  },
  {
   "cell_type": "code",
   "execution_count": null,
   "metadata": {
    "scrolled": false
   },
   "outputs": [],
   "source": [
    "println(\"Grade of person 1: \", data[1, 3], \n",
    "        \", \", data[1,:Grade], \n",
    "        \", \", data.Grade[1])"
   ]
  },
  {
   "cell_type": "code",
   "execution_count": null,
   "metadata": {
    "scrolled": false
   },
   "outputs": [],
   "source": [
    "data[[1,2,4], :]"
   ]
  },
  {
   "cell_type": "code",
   "execution_count": null,
   "metadata": {
    "scrolled": false
   },
   "outputs": [],
   "source": [
    "data[13:15, :Name]"
   ]
  },
  {
   "cell_type": "code",
   "execution_count": null,
   "metadata": {
    "scrolled": false
   },
   "outputs": [],
   "source": [
    "data.Name[13:15]"
   ]
  },
  {
   "cell_type": "code",
   "execution_count": null,
   "metadata": {
    "scrolled": false
   },
   "outputs": [],
   "source": [
    "data[13:15, [:Name]]"
   ]
  },
  {
   "cell_type": "markdown",
   "metadata": {},
   "source": [
    "#### Mising values"
   ]
  },
  {
   "cell_type": "code",
   "execution_count": null,
   "metadata": {},
   "outputs": [],
   "source": [
    "mean(data.Price)"
   ]
  },
  {
   "cell_type": "code",
   "execution_count": null,
   "metadata": {},
   "outputs": [],
   "source": [
    "ismissing.(data.Price) |> sum"
   ]
  },
  {
   "cell_type": "code",
   "execution_count": null,
   "metadata": {},
   "outputs": [],
   "source": [
    "mean(skipmissing(data.Price))"
   ]
  },
  {
   "cell_type": "code",
   "execution_count": null,
   "metadata": {},
   "outputs": [],
   "source": [
    "data.Grade[1:4]"
   ]
  },
  {
   "cell_type": "code",
   "execution_count": null,
   "metadata": {},
   "outputs": [],
   "source": [
    "coalesce.(data.Grade, \"QQ\")[1:4]"
   ]
  },
  {
   "cell_type": "code",
   "execution_count": null,
   "metadata": {},
   "outputs": [],
   "source": [
    "dropmissing(data,:Price)"
   ]
  },
  {
   "cell_type": "code",
   "execution_count": null,
   "metadata": {},
   "outputs": [],
   "source": [
    "completecases(data) |> sum"
   ]
  },
  {
   "cell_type": "code",
   "execution_count": null,
   "metadata": {},
   "outputs": [],
   "source": [
    "full_obs = completecases(data) |> findall"
   ]
  },
  {
   "cell_type": "code",
   "execution_count": null,
   "metadata": {},
   "outputs": [],
   "source": [
    "data[setdiff(1:size(data,1), full_obs),:]"
   ]
  },
  {
   "cell_type": "markdown",
   "metadata": {},
   "source": [
    "<a id='inference'></a>\n",
    "# Gotta have some basic inference.\n",
    "[home](#home)"
   ]
  },
  {
   "cell_type": "markdown",
   "metadata": {},
   "source": [
    "#### Point estimation"
   ]
  },
  {
   "cell_type": "code",
   "execution_count": null,
   "metadata": {
    "scrolled": false
   },
   "outputs": [],
   "source": [
    "fix_seed!()\n",
    "\n",
    "N = 10^5\n",
    "nMin, nStep, nMax = 10, 10, 200\n",
    "nn = Int(nMax/nStep)\n",
    "sampleSizes = nMin:nStep:nMax\n",
    "trueB = 5\n",
    "trueDist = Uniform(-2, trueB)\n",
    "\n",
    "#MLE for the upper bound\n",
    "MLEest(data) = maximum(data)\n",
    "\n",
    "#Method of moments estimator for the upper bound\n",
    "MMest(data)  = mean(data) + sqrt(3)*std(data)\n",
    "\n",
    "res = Dict{Symbol,Array{Float64}}( ((sym) -> sym => Array{Float64}(undef,nn)).(\n",
    "                                [:MSeMLE,:MSeMM, :VarMLE,:VarMM,:BiasMLE,:BiasMM]))\n",
    "\n",
    "for (i, n) in enumerate(sampleSizes)\n",
    "    mleEst, mmEst = Array{Float64}(undef, N), Array{Float64}(undef, N) \n",
    "    for j in 1:N\n",
    "        sample    = rand(trueDist,n)\n",
    "        mleEst[j] = MLEest(sample)\n",
    "        mmEst[j]  = MMest(sample)\n",
    "    end\n",
    "    meanMLE, meanMM = mean(mleEst), mean(mmEst)\n",
    "    varMLE, varMM = var(mleEst), var(mmEst)\n",
    "\n",
    "    res[:MSeMLE][i] = varMLE + (meanMLE - trueB)^2\n",
    "    res[:MSeMM][i] = varMM + (meanMM - trueB)^2\n",
    "    res[:VarMLE][i] = varMLE\n",
    "    res[:VarMM][i] = varMM\n",
    "    res[:BiasMLE][i] = meanMLE - trueB\n",
    "    res[:BiasMM][i] = meanMM - trueB\n",
    "end\n",
    "\n",
    "p1 = scatter(sampleSizes, [res[:MSeMLE] res[:MSeMM]], c=[:blue :red],\n",
    "    label=[\"Mean sq.err (MLE)\" \"Mean sq.err (MM)\"])\n",
    "p2 = scatter(sampleSizes, [res[:VarMLE] res[:VarMM]], c=[:blue :red],\n",
    "    label=[\"Variance (MLE)\" \"Variance (MM)\"])\n",
    "p3 = scatter(sampleSizes, [res[:BiasMLE] res[:BiasMM]], c=[:blue :red],\n",
    "    label=[\"Bias (MLE)\" \"Bias (MM)\"],legend = :bottomright)\n",
    "\n",
    "plot(p1, p2, p3, ms=2, shape=:circle, xlabel=\"n\", \n",
    "    layout=(1,3), size=(800, 300), margin = 2mm)"
   ]
  },
  {
   "cell_type": "code",
   "execution_count": null,
   "metadata": {
    "scrolled": false
   },
   "outputs": [],
   "source": [
    "fix_seed!()\n",
    "\n",
    "eq(alpha, xb, xbl) = log(alpha) - digamma(alpha) - log(xb) + xbl\n",
    "\n",
    "actualAlpha, actualLambda = 2, 3\n",
    "gammaDist = Gamma(actualAlpha,1/actualLambda)\n",
    "\n",
    "function mle(sample)\n",
    "    alpha  = find_zero( (a)->eq(a,mean(sample),mean(log.(sample))), 1)\n",
    "    lambda = alpha/mean(sample)\n",
    "    return [alpha,lambda]\n",
    "end\n",
    "\n",
    "N = 10^3\n",
    "\n",
    "mles10   = [mle(rand(gammaDist,10)) for _ in 1:N]\n",
    "mles100  = [mle(rand(gammaDist,100)) for _ in 1:N]\n",
    "mles1000 = [mle(rand(gammaDist,1000)) for _ in 1:N]\n",
    "\n",
    "scatter(first.(mles10), last.(mles10), \n",
    "    c=:blue, ms=1, msw=0, label=\"n = 10\")\n",
    "scatter!(first.(mles100), last.(mles100), \n",
    "    c=:red, ms=1, msw=0, label=\"n = 100\")\n",
    "scatter!(first.(mles1000), last.(mles1000), \n",
    "    c=:green, ms=1, msw=0, label=\"n = 1000\", \n",
    "    xlims=(0,6), ylims=(0,8), xlabel=L\"\\alpha\", ylabel=L\"\\lambda\")"
   ]
  },
  {
   "cell_type": "markdown",
   "metadata": {},
   "source": [
    "#### Confidence Intervals"
   ]
  },
  {
   "cell_type": "code",
   "execution_count": null,
   "metadata": {},
   "outputs": [],
   "source": [
    "data1 = (CSV.File(\"./data/machine1.csv\", header=false) |> DataFrame)[:,1]\n",
    "data2 = (CSV.File(\"./data/machine2.csv\", header=false) |> DataFrame)[:,1]\n",
    "boxplot([data1,data2], c=[:blue :red], label=\"\", \n",
    "    xticks=([1:2;], [\"1\", \"2\"]), xlabel=\"Machine type\",\n",
    "    ylabel=\"Pipe Diameter (mm)\")"
   ]
  },
  {
   "cell_type": "code",
   "execution_count": null,
   "metadata": {},
   "outputs": [],
   "source": [
    "α = 0.05 #\\alpha + [TAB]\n",
    "confint(EqualVarianceTTest(data1,data2),α)"
   ]
  },
  {
   "cell_type": "code",
   "execution_count": null,
   "metadata": {
    "scrolled": false
   },
   "outputs": [],
   "source": [
    "#Doing it manually\n",
    "xBar1, xBar2 = mean(data1), mean(data2)\n",
    "n1, n2 = length(data1), length(data2)\n",
    "t = quantile(TDist(n1+n2-2),1-α/2)\n",
    "\n",
    "s1, s2 = std(data1), std(data2)\n",
    "sP = sqrt(((n1-1)*s1^2 + (n2-1)*s2^2) / (n1+n2-2))\n",
    "\n",
    "(xBar1 - xBar2 - t*sP* sqrt(1/n1 + 1/n2), xBar1 - xBar2 + t*sP* sqrt(1/n1 + 1/n2))"
   ]
  },
  {
   "cell_type": "markdown",
   "metadata": {},
   "source": [
    "#### Hypothesis Tests"
   ]
  },
  {
   "cell_type": "code",
   "execution_count": null,
   "metadata": {},
   "outputs": [],
   "source": [
    "δ₀ = 0\n",
    "test_result =UnequalVarianceTTest(data1, data2, δ₀)"
   ]
  },
  {
   "cell_type": "code",
   "execution_count": null,
   "metadata": {},
   "outputs": [],
   "source": [
    "test_result.df"
   ]
  },
  {
   "cell_type": "code",
   "execution_count": null,
   "metadata": {},
   "outputs": [],
   "source": [
    "pvalue(test_result)"
   ]
  },
  {
   "cell_type": "code",
   "execution_count": null,
   "metadata": {},
   "outputs": [],
   "source": [
    "methods(pvalue)"
   ]
  },
  {
   "cell_type": "code",
   "execution_count": null,
   "metadata": {},
   "outputs": [],
   "source": [
    "@which pvalue(test_result)"
   ]
  },
  {
   "cell_type": "code",
   "execution_count": null,
   "metadata": {
    "scrolled": false
   },
   "outputs": [],
   "source": [
    "xBar1, s1, n1 = mean(data1), std(data1), length(data1)\n",
    "xBar2, s2, n2 = mean(data2), std(data2), length(data2)\n",
    "\n",
    "v = ( s1^2/n1 + s2^2/n2 )^2 / ( (s1^2/n1)^2/(n1-1) + (s2^2/n2)^2/(n2-1)  )\n",
    "testStatistic = ( xBar1-xBar2 - δ₀ )  / sqrt( s1^2/n1 + s2^2/n2 )\n",
    "pVal = 2*ccdf(TDist(v), abs(testStatistic))\n",
    "\n",
    "println(\"Manually calculated degrees of freedom, v: \", v)\n",
    "println(\"Manually calculated test statistic: \", testStatistic)\n",
    "println(\"Manually calculated p-value: \", pVal, \"\\n\")"
   ]
  },
  {
   "cell_type": "code",
   "execution_count": null,
   "metadata": {
    "scrolled": true
   },
   "outputs": [],
   "source": [
    "data = CSV.File(\"./data/fertilizer.csv\") |> DataFrame\n",
    "\n",
    "control = data.Control\n",
    "fertilizer = data.FertilizerX\n",
    "\n",
    "subGroups = collect(combinations([control;fertilizer],10))\n",
    "\n",
    "meanFert = mean(fertilizer)\n",
    "pVal = sum([mean(i) >= meanFert for i in subGroups])/length(subGroups)\n",
    "println(\"p-value = \", pVal)"
   ]
  },
  {
   "cell_type": "markdown",
   "metadata": {},
   "source": [
    "<a id='linear-models'></a>\n",
    "# Linear models at our core.\n",
    "[home](#home)"
   ]
  },
  {
   "cell_type": "code",
   "execution_count": null,
   "metadata": {},
   "outputs": [],
   "source": [
    "data = CSV.File(\"./data/L1L2data.csv\") |> DataFrame\n",
    "xVals, yVals = data[:,1], data[:,2]\n",
    "scatter(xVals,yVals,label=false,xlim=(0,10),ylim=(0,10),xlabel=\"X\", ylabel=\"Y\")"
   ]
  },
  {
   "cell_type": "code",
   "execution_count": null,
   "metadata": {},
   "outputs": [],
   "source": [
    "n = length(xVals)\n",
    "A = [ones(n) xVals] #The \"design matrix\""
   ]
  },
  {
   "cell_type": "code",
   "execution_count": null,
   "metadata": {
    "scrolled": false
   },
   "outputs": [],
   "source": [
    "# Approach A\n",
    "xBar, yBar = mean(xVals),mean(yVals)\n",
    "sXX, sXY = ones(n)'*(xVals.-xBar).^2 , dot(xVals.-xBar,yVals.-yBar)\n",
    "b1A = sXY/sXX\n",
    "b0A = yBar - b1A*xBar\n",
    "\n",
    "# Approach B\n",
    "b1B = cor(xVals,yVals)*(std(yVals)/std(xVals))\n",
    "b0B = yBar - b1B*xBar\n",
    "\n",
    "# Approach C\n",
    "b0C, b1C = A'A \\ A'yVals\n",
    "\n",
    "# Approach D\n",
    "Adag = inv(A'*A)*A'\n",
    "b0D, b1D = Adag*yVals\n",
    "\n",
    "# Approach E\n",
    "b0E, b1E = pinv(A)*yVals\n",
    "\n",
    "# Approach F\n",
    "b0F, b1F = A\\yVals\n",
    "\n",
    "# Approach G\n",
    "F = qr(A)\n",
    "Q, R = F.Q, F.R\n",
    "b0G, b1G = (inv(R)*Q')*yVals\n",
    "\n",
    "# Approach H\n",
    "F = svd(A)\n",
    "V, Sp, Us = F.V, Diagonal(1 ./ F.S), F.U'\n",
    "b0H, b1H = (V*Sp*Us)*yVals\n",
    "\n",
    "# Approach I\n",
    "eta, eps = 0.002, 10^-6.\n",
    "b, bPrev = [0,0], [1,1]\n",
    "while norm(bPrev-b) >= eps\n",
    "    global bPrev = b\n",
    "    global b = b - eta*2*A'*(A*b - yVals)\n",
    "end\n",
    "b0I, b1I = b[1], b[2]\n",
    "\n",
    "# Approach J\n",
    "modelJ = lm(@formula(Y ~ X), data)\n",
    "b0J, b1J = coef(modelJ)\n",
    "\n",
    "# Approach K\n",
    "modelK = glm(@formula(Y ~ X), data, Normal())\n",
    "b0K, b1K = coef(modelK)\n",
    "\n",
    "println(round.([b0A,b0B,b0C,b0D,b0E,b0F,b0G,b0H,b0I,b0J,b0K],digits=3))\n",
    "println(round.([b1A,b1B,b1C,b1D,b1E,b1F,b1G,b1H,b1I,b1J,b1K],digits=3))"
   ]
  },
  {
   "cell_type": "code",
   "execution_count": null,
   "metadata": {
    "scrolled": false
   },
   "outputs": [],
   "source": [
    "data = CSV.File(\"./data/weightHeight.csv\") |> DataFrame\n",
    "\n",
    "lm1 = lm(@formula(Height ~ Weight), data)\n",
    "lm2 = fit(LinearModel,@formula(Height ~ Weight), data)\n",
    "\n",
    "glm1 = glm(@formula(Height ~ Weight), data, Normal(), IdentityLink())\n",
    "glm2 = fit(GeneralizedLinearModel,@formula(Height ~ Weight), data, Normal(), IdentityLink())\n",
    "\n",
    "println(\"***Output of LM Model:\")\n",
    "println(lm1)\n",
    "println(\"\\n***Output of GLM Model:\")\n",
    "println(glm1)\n",
    "\n",
    "pred(x) = coef(lm1)'*[1, x]\n",
    "\n",
    "println(\"\\n***Individual methods applied to model output:\")\n",
    "println(\"Deviance: \",deviance(lm1))\n",
    "println(\"Standard error: \",stderror(lm1))\n",
    "println(\"Degrees of freedom: \",dof_residual(lm1))\n",
    "println(\"Covariance matrix: \",vcov(lm1))\n",
    "\n",
    "yVals = data.Height\n",
    "SStotal = sum((yVals .- mean(yVals)).^2)\n",
    "\n",
    "println(\"R squared (calculated in two ways):\",r2(lm1),\n",
    "        \",\\t\", 1 - deviance(lm1)/SStotal)\n",
    "\n",
    "println(\"MSE (calculated in two ways: \",deviance(lm1)/dof_residual(lm1),\n",
    "        \",\\t\",sum((pred.(data.Weight) - data.Height).^2)/(size(data)[1] - 2))\n",
    "\n",
    "xlims = [minimum(data.Weight), maximum(data.Weight)]\n",
    "scatter(data.Weight, data.Height, c=:blue, msw=0)\n",
    "plot!(xlims, pred.(xlims), \n",
    "    c=:red, xlims=(xlims), \n",
    "    xlabel=\"Weight (kg)\", ylabel=\"Height (cm)\", legend=:none)"
   ]
  },
  {
   "cell_type": "markdown",
   "metadata": {},
   "source": [
    "#### Multiple variables"
   ]
  },
  {
   "cell_type": "code",
   "execution_count": null,
   "metadata": {
    "scrolled": false
   },
   "outputs": [],
   "source": [
    "df = RDatasets.dataset(\"MASS\", \"cpus\")\n",
    "df.Freq = map( x->10^9/x , df.CycT)\n",
    "\n",
    "model = lm(@formula(Perf ~ MMax + Cach + ChMax + Freq), df)\n",
    "pred(x) = round(coef(model)'*vcat(1,x),digits = 3)\n",
    "\n",
    "println(\"n = \", size(df)[1])\n",
    "println(\"(Avg,Std) of observed performance: \", (mean(df.Perf),std(df.Perf)))\n",
    "println(model)\n",
    "println(\"Estimated performance for computer A: \", pred([32000, 32, 32, 4*10^7]))\n",
    "println(\"Estimated performance for computer B: \", pred([32000, 16, 32, 6*10^7]))"
   ]
  },
  {
   "cell_type": "markdown",
   "metadata": {},
   "source": [
    "#### Categorical variables"
   ]
  },
  {
   "cell_type": "code",
   "execution_count": null,
   "metadata": {
    "scrolled": false
   },
   "outputs": [],
   "source": [
    "df = CSV.File(\"./data/weightHeight.csv\") |> DataFrame\n",
    "n = size(df)[1]\n",
    "df[shuffle(1:n),:] = df\n",
    "df[[10,40,60,130,140,175,190,200],:Sex] .= \"O1\"\n",
    "df[[9,44,63,132,138,172,192,199],:Sex] .= \"O2\"\n",
    "\n",
    "model = lm(@formula(Height ~ Weight + Sex), df,\n",
    "        contrasts=Dict(:Sex=>DummyCoding(base=\"F\",levels=[\"M\",\"O1\",\"O2\",\"F\"])))\n",
    "b0, b1, b2, b3, b4  = coef(model)\n",
    "pred(weight,sex) = b0+b1*weight+b2*(sex==\"M\")+b3*(sex==\"O1\")+b3*(sex==\"O2\")\n",
    "println(model)\n",
    "\n",
    "males = df[df.Sex .== \"M\",:]\n",
    "females = df[df.Sex .== \"F\",:]\n",
    "other = df[(df.Sex .!= \"M\") .& (df.Sex .!= \"F\"),:]\n",
    "\n",
    "xlim = [minimum(df.Weight), maximum(df.Weight)]\n",
    "scatter(males.Weight, males.Height, c=:blue, msw=0, label=\"Males\")\n",
    "plot!(xlim, pred.(xlim,\"M\"), c=:blue, label=\"Male model\")\n",
    "\n",
    "scatter!(females.Weight, females.Height, c=:red, msw=0, label=\"Females\")\n",
    "plot!(xlim, pred.(xlim,\"F\"), \n",
    "    c=:red, label=\"Female model\", xlims=(xlim), \n",
    "    xlabel=\"Weight (kg)\", ylabel=\"Height (cm)\", legend=:topleft)\n",
    "\n",
    "scatter!(other.Weight, other.Height, c=:green, msw=0, label=\"Other\")"
   ]
  },
  {
   "cell_type": "markdown",
   "metadata": {},
   "source": [
    "#### Variable selection with LASSO"
   ]
  },
  {
   "cell_type": "code",
   "execution_count": null,
   "metadata": {
    "scrolled": false
   },
   "outputs": [],
   "source": [
    "df = RDatasets.dataset(\"MASS\", \"cpus\")\n",
    "df.Freq = map( x->10^9/x , df.CycT)\n",
    "df = df[:, [:Perf, :Freq, :MMin, :MMax, :Cach, :ChMin, :ChMax]]\n",
    "X = [df.Freq df.MMin df.MMax df.Cach df.ChMin df.ChMax]\n",
    "Y = df.Perf\n",
    "\n",
    "targetNumVars = 3\n",
    "\n",
    "lambdaStep = 0.2\n",
    "lamGrid = collect(0:lambdaStep:150)\n",
    "lassoFit = fit(LassoPath,X, Y, λ = lamGrid);\n",
    "dd = Array(lassoFit.coefs)'\n",
    "nV = sum(dd .!= 0.0 ,dims=2)\n",
    "\n",
    "goodLambda = lamGrid[findfirst((n)->n==targetNumVars,nV)]\n",
    "newFit = fit(LassoPath,X, Y, λ = [goodLambda - lambdaStep, goodLambda])\n",
    "println(newFit)\n",
    "println(\"Coefficients: \", Array(newFit.coefs)'[2,:])\n",
    "\n",
    "p1 = plot(lassoFit.λ, dd, label = [\"Freq\" \"MMin\" \"MMax\" \"Cach\" \"ChMin\" \"ChMax\"],\n",
    "    ylabel = \"Coefficient Value\")\n",
    "plot!([goodLambda,goodLambda],[-1,1.5],c=:black, lw=2, label = \"Model cut-off\")\n",
    "\n",
    "p2 = plot(lassoFit.λ,nV, ylabel = \"Number of Variables\",legend = false)\n",
    "plot!([goodLambda,goodLambda],[0,6],c=:black, lw=2, label = \"Model cut-off\")\n",
    "\n",
    "plot(p1,p2,xlabel= L\"\\lambda\", margin = 5mm, size = (800,400))"
   ]
  },
  {
   "cell_type": "markdown",
   "metadata": {},
   "source": [
    "#### Generalized linear models"
   ]
  },
  {
   "cell_type": "code",
   "execution_count": null,
   "metadata": {
    "scrolled": false
   },
   "outputs": [],
   "source": [
    "df = RDatasets.dataset(\"MASS\", \"cpus\")\n",
    "n = size(df)[1]\n",
    "df = df[shuffle(1:n),:]\n",
    "\n",
    "pTest = 0.2\n",
    "lastTindex = Int(floor(n*(1-pTest)))\n",
    "numTest = n - lastTindex\n",
    "\n",
    "train = df[1:lastTindex,:]\n",
    "test = df[lastTindex+1:n,:]\n",
    "\n",
    "form = @formula(Perf~CycT+MMin+MMax+Cach+ChMin+ChMax)\n",
    "model1 = glm(form, train, Normal(),  IdentityLink())\n",
    "model2 = glm(form, train, Poisson(), LogLink())\n",
    "model3 = glm(form, train, Gamma(),  InverseLink())\n",
    "\n",
    "invIdenityLink(x) = x\n",
    "invLogLink(x) = exp(x)\n",
    "invInverseLink(x) = 1/x\n",
    "\n",
    "A = [ones(numTest) test.CycT test.MMin test.MMax test.Cach test.ChMin test.ChMax]\n",
    "pred1 = invIdenityLink.(A*coef(model1))\n",
    "pred2 = invLogLink.(A*coef(model2))\n",
    "pred3 = invInverseLink.(A*coef(model3))\n",
    "\n",
    "actual = test.Perf\n",
    "lossModel1 = norm(pred1 - actual)\n",
    "lossModel2 = norm(pred2 - actual)\n",
    "lossModel3 = norm(pred3 - actual)\n",
    "\n",
    "println(\"Model 1: \", coef(model1))\n",
    "println(\"Model 2: \", coef(model2))\n",
    "println(\"Model 3: \", coef(model3))\n",
    "println(\"\\nLoss of models 1,2,3: \",(lossModel1 ,lossModel2, lossModel3))"
   ]
  },
  {
   "cell_type": "markdown",
   "metadata": {},
   "source": [
    "<a id='basic-ml'></a>\n",
    "# Basic Machine learning.\n",
    "[home](#home)"
   ]
  },
  {
   "cell_type": "markdown",
   "metadata": {},
   "source": [
    "Some resources:\n",
    "\n",
    "* Docs for [MLJ.jl](https://alan-turing-institute.github.io/MLJ.jl/dev/) - not used here.\n",
    "* Docs for [Scikitlearn.jl](https://github.com/cstjean/ScikitLearn.jl) - not used here.\n",
    "* Docs for [Flux.jl](https://fluxml.ai/Flux.jl/stable/)\n",
    "* [The Mathematical Engineering of Deep Learning](https://deeplearningmath.org/amsi-summer-school-course-2021.html)\n",
    "* ..."
   ]
  },
  {
   "cell_type": "markdown",
   "metadata": {},
   "source": [
    "#### Applying off the shelf deep neural networks (see https://github.com/FluxML/Metalhead.jl) "
   ]
  },
  {
   "cell_type": "code",
   "execution_count": null,
   "metadata": {
    "scrolled": false
   },
   "outputs": [],
   "source": [
    "vgg = VGG19(); #A neural network model VGG19 (about 500Mb of parameters, from 2014)\n",
    "vgg.layers"
   ]
  },
  {
   "cell_type": "code",
   "execution_count": null,
   "metadata": {
    "scrolled": false
   },
   "outputs": [],
   "source": [
    "#download an arbitrary image and try to classify it\n",
    "download(\"https://deeplearningmath.org/data/images/appleFruit.jpg\",\"appleFruit.jpg\");\n",
    "img = load(\"appleFruit.jpg\")"
   ]
  },
  {
   "cell_type": "code",
   "execution_count": null,
   "metadata": {
    "scrolled": false
   },
   "outputs": [],
   "source": [
    "@time begin\n",
    "    classify(vgg,img) #vgg is the model\n",
    "end"
   ]
  },
  {
   "cell_type": "markdown",
   "metadata": {},
   "source": [
    "#### Clustering with $k$-means"
   ]
  },
  {
   "cell_type": "code",
   "execution_count": null,
   "metadata": {
    "scrolled": false
   },
   "outputs": [],
   "source": [
    "fix_seed!()\n",
    "\n",
    "K = 3\n",
    "df = RDatasets.dataset(\"cluster\", \"xclara\")\n",
    "data = Matrix(df)'\n",
    "\n",
    "seeds = initseeds(:rand, data, K)\n",
    "xclaraKmeans = kmeans(data, K, init = seeds)\n",
    "\n",
    "println(\"Number of clusters: \", nclusters(xclaraKmeans))\n",
    "println(\"Counts of clusters: \", counts(xclaraKmeans))\n",
    "\n",
    "df.Group  = assignments(xclaraKmeans)\n",
    "\n",
    "p1 = scatter(df[:, :V1], df[:, :V2], c=:blue, msw=0)\n",
    "     scatter!(df[seeds, :V1], df[seeds, :V2], markersize=12, c=:red, msw=0)\n",
    "\n",
    "p2 = scatter( df[df.Group .== 1, :V1], df[df.Group .== 1, :V2], c=:blue, msw=0)\n",
    "     scatter!( df[df.Group .== 2, :V1], df[df.Group .== 2, :V2], c=:red, msw=0)\n",
    "     scatter!( df[df.Group .== 3, :V1], df[df.Group .== 3, :V2], c=:green, msw=0)\n",
    "\n",
    "plot(p1,p2,legend=:none,ratio=:equal, size=(800,400), xlabel=\"V1\", ylabel=\"V2\", margin = 5mm)"
   ]
  },
  {
   "cell_type": "markdown",
   "metadata": {},
   "source": [
    "#### The MNIST digits dataset"
   ]
  },
  {
   "cell_type": "code",
   "execution_count": null,
   "metadata": {},
   "outputs": [],
   "source": [
    "using MLDatasets"
   ]
  },
  {
   "cell_type": "code",
   "execution_count": null,
   "metadata": {
    "scrolled": false
   },
   "outputs": [],
   "source": [
    "train_data = MLDatasets.MNIST.traindata(Float64)\n",
    "\n",
    "imgs = train_data[1]\n",
    "@show typeof(imgs)\n",
    "@show size(imgs)\n",
    "\n",
    "labels = train_data[2]\n",
    "@show typeof(labels);"
   ]
  },
  {
   "cell_type": "code",
   "execution_count": null,
   "metadata": {
    "scrolled": false
   },
   "outputs": [],
   "source": [
    "test_data = MLDatasets.MNIST.testdata(Float64)\n",
    "test_imgs = test_data[1]\n",
    "test_labels = test_data[2]\n",
    "@show size(test_imgs);"
   ]
  },
  {
   "cell_type": "code",
   "execution_count": null,
   "metadata": {
    "scrolled": false
   },
   "outputs": [],
   "source": [
    "n_train, n_test = length(labels), length(test_labels)"
   ]
  },
  {
   "cell_type": "code",
   "execution_count": null,
   "metadata": {
    "scrolled": false
   },
   "outputs": [],
   "source": [
    "[Gray.(train_data[1][:,:,k]') for k in 1:5]"
   ]
  },
  {
   "cell_type": "code",
   "execution_count": null,
   "metadata": {
    "scrolled": false
   },
   "outputs": [],
   "source": [
    "X = vcat([vec(imgs[:,:,k])' for k in 1:last(size(imgs))]...)\n",
    "@show size(X)\n",
    "heatmap(X,legend=false)"
   ]
  },
  {
   "cell_type": "markdown",
   "metadata": {},
   "source": [
    "#### Principal component analysis (PCA)"
   ]
  },
  {
   "cell_type": "code",
   "execution_count": null,
   "metadata": {
    "scrolled": false
   },
   "outputs": [],
   "source": [
    "pca = fit(PCA, X'; maxoutdim=2)\n",
    "M = projection(pca)\n",
    "\n",
    "args = (ms=0.8, msw=0, xlims=(-5,12.5), ylims=(-7.5,7.5),\n",
    "            legend = :topright, xlabel=\"PC 1\", ylabel=\"PC 2\")\n",
    "\n",
    "function compareDigits(dA,dB)\n",
    "    xA = X[labels .== dA, :]'\n",
    "    xB = X[labels .== dB, :]'\n",
    "    zA, zB = M'*xA, M'*xB\n",
    "    \n",
    "    scatter(zA[1,:], zA[2,:], c=:red, label=\"Digit $(dA)\"; args...)\n",
    "    scatter!(zB[1,:], zB[2,:], c=:blue, label=\"Digit $(dB)\"; args...)\n",
    "end\n",
    "\n",
    "plots = []\n",
    "for k in 1:5\n",
    "    push!(plots,compareDigits(2k-2,2k-1))\n",
    "end\n",
    "plot(plots...,size = (800, 500), margin = 5mm)"
   ]
  },
  {
   "cell_type": "markdown",
   "metadata": {},
   "source": [
    "#### A linear classifier"
   ]
  },
  {
   "cell_type": "code",
   "execution_count": null,
   "metadata": {
    "scrolled": false
   },
   "outputs": [],
   "source": [
    "using Flux: onehotbatch\n",
    "\n",
    "A = [ones(n_train) X]\n",
    "Adag = pinv(A)  \n",
    "tfPM(x) = x ? +1 : -1\n",
    "yDat(k) = tfPM.(onehotbatch(labels,0:9)'[:,k+1])\n",
    "bets = [Adag*yDat(k) for k in 0:9]\n",
    "\n",
    "linear_classify(square_image) = findmax([([1 ; vec(square_image)])'*bets[k] for k in 1:10])[2]-1"
   ]
  },
  {
   "cell_type": "code",
   "execution_count": null,
   "metadata": {
    "scrolled": false
   },
   "outputs": [],
   "source": [
    "predictions = [linear_classify(test_imgs[:,:,k]) for k in 1:n_test]\n",
    "confusionMatrix = [sum((predictions .== i) .& (test_labels .== j)) for i in 0:9, j in 0:9]\n",
    "acc = sum(diag(confusionMatrix))/n_test\n",
    "\n",
    "println(\"Accuracy: \", acc, \"\\nConfusion Matrix:\")\n",
    "show(stdout, \"text/plain\", confusionMatrix)"
   ]
  },
  {
   "cell_type": "markdown",
   "metadata": {},
   "source": [
    "#### Training neural networks"
   ]
  },
  {
   "cell_type": "code",
   "execution_count": null,
   "metadata": {},
   "outputs": [],
   "source": [
    "train_range, validate_range = 1:5000, 5001:10000\n",
    "batch_size = 1000\n",
    "\n",
    "train_imgs = imgs[:,:,train_range]\n",
    "train_labels = labels[train_range]\n",
    "mb_idxs = Iterators.partition(1:length(train_range), batch_size)\n",
    "\n",
    "validate_imgs = imgs[:,:,validate_range]\n",
    "validate_labels = labels[validate_range];"
   ]
  },
  {
   "cell_type": "code",
   "execution_count": null,
   "metadata": {},
   "outputs": [],
   "source": [
    "function minibatch(x, y, index_range)\n",
    "#     xBatch = Array{Float32}(undef, size(x[1])..., 1, length(indexRange))\n",
    "    x_batch = Array{Float32}(undef, 28,28, 1, length(index_range))\n",
    "    for i in 1:length(index_range)\n",
    "        x_batch[:, :, :, i] = Float32.(x[:,:,index_range[i]])\n",
    "    end\n",
    "    return (x_batch, onehotbatch(y[index_range], 0:9))\n",
    "end\n",
    "\n",
    "train_set = [minibatch(train_imgs, train_labels, bi) for bi in mb_idxs];\n",
    "@show length(train_set)\n",
    "validate_set = [minibatch(validate_imgs,validate_labels, 1:length(validate_range))]\n",
    "@show length(validate_set);"
   ]
  },
  {
   "cell_type": "code",
   "execution_count": null,
   "metadata": {},
   "outputs": [],
   "source": [
    "using Flux: onehotbatch, onecold, crossentropy, flatten, params"
   ]
  },
  {
   "cell_type": "code",
   "execution_count": null,
   "metadata": {},
   "outputs": [],
   "source": [
    "#A dense model\n",
    "model1 = Chain(flatten, \n",
    "                Dense(784, 200, relu),\n",
    "                Dense(200, 100, tanh),\n",
    "                Dense(100, 10, sigmoid),\n",
    "                softmax)"
   ]
  },
  {
   "cell_type": "code",
   "execution_count": null,
   "metadata": {},
   "outputs": [],
   "source": [
    "#A convolutional model\n",
    "model2 = Chain(\n",
    "            Conv((5, 5), 1=>8, relu), MaxPool((2,2)),\n",
    "            Conv((3, 3), 8=>16, relu), MaxPool((2,2)),\n",
    "            flatten, \n",
    "            Dense(400, 10), \n",
    "            softmax)"
   ]
  },
  {
   "cell_type": "code",
   "execution_count": null,
   "metadata": {
    "scrolled": false
   },
   "outputs": [],
   "source": [
    "fix_seed!()\n",
    "\n",
    "epochs = 30\n",
    "\n",
    "η = 5e-3 #learning rate\n",
    "opt1, opt2 = ADAM(η), ADAM(η)\n",
    "\n",
    "accuracyPaths = [[],[]]\n",
    "\n",
    "accuracy(x, y, model) = mean(onecold(model(x)) .== onecold(y))\n",
    "loss(x, y, model) = crossentropy(model(x), y)\n",
    "\n",
    "cbF1() = begin\n",
    "            acc = accuracy(first(validate_set)..., model1)\n",
    "            print(\"$acc, \")\n",
    "            push!(accuracyPaths[1],acc)\n",
    "        end\n",
    "\n",
    "cbF2() = begin\n",
    "            acc = accuracy(first(validate_set)..., model2)\n",
    "            print(\"$acc, \")\n",
    "            push!(accuracyPaths[2],acc)\n",
    "        end\n",
    "\n",
    "model1(train_set[1][1]); model2(train_set[1][1])\n",
    "\n",
    "for ep in 1:epochs\n",
    "    print(\"\\nEpoch $ep \\n  Model 1 accuracy: \")\n",
    "    Flux.train!((x,y)->loss(x,y,model1), params(model1), train_set, opt1, cb=cbF1)\n",
    "    print(\"  Model 2 accuracy: \")\n",
    "    Flux.train!((x,y)->loss(x,y,model2), params(model2), train_set, opt2, cb=cbF2)\n",
    "end\n",
    "\n",
    "println(\"\\n\\nFinal Model1 (Dense) accuracy = \", accuracy(first(validate_set)..., model1))\n",
    "println(\"Final Model2 (Convolutional) accuracy = \", accuracy(first(validate_set)..., model2))\n",
    "\n",
    "plot(accuracyPaths,label = [\"Dense\" \"Convolutional\"],\n",
    "    ylim=(0.7,1.0), xlabel=\"Batch number\", ylabel = \"Validation Accuracy\")"
   ]
  },
  {
   "cell_type": "markdown",
   "metadata": {},
   "source": [
    "[home](#home)\n",
    "\n",
    "## The End "
   ]
  },
  {
   "cell_type": "markdown",
   "metadata": {},
   "source": [
    "I hope you enjoyed the tutorial.\n",
    "\n",
    "Many more of these types of examples + statistical background are at [statisticswithjulia.org](https://statisticswithjulia.org/)."
   ]
  },
  {
   "cell_type": "code",
   "execution_count": null,
   "metadata": {},
   "outputs": [],
   "source": []
  }
 ],
 "metadata": {
  "kernelspec": {
   "display_name": "Julia 1.6.0",
   "language": "julia",
   "name": "julia-1.6"
  },
  "language_info": {
   "file_extension": ".jl",
   "mimetype": "application/julia",
   "name": "julia",
   "version": "1.6.0"
  }
 },
 "nbformat": 4,
 "nbformat_minor": 5
}
